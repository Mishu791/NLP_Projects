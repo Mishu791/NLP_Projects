{
  "nbformat": 4,
  "nbformat_minor": 0,
  "metadata": {
    "colab": {
      "name": "BERTsentiment.ipynb",
      "provenance": [],
      "collapsed_sections": [],
      "authorship_tag": "ABX9TyPdJo3QdZpF1zGPH6eCrdEl"
    },
    "kernelspec": {
      "name": "python3",
      "display_name": "Python 3"
    },
    "language_info": {
      "name": "python"
    },
    "widgets": {
      "application/vnd.jupyter.widget-state+json": {
        "42a4a995913a4faa8f32a45377833da1": {
          "model_module": "@jupyter-widgets/controls",
          "model_name": "HBoxModel",
          "state": {
            "_view_name": "HBoxView",
            "_dom_classes": [],
            "_model_name": "HBoxModel",
            "_view_module": "@jupyter-widgets/controls",
            "_model_module_version": "1.5.0",
            "_view_count": null,
            "_view_module_version": "1.5.0",
            "box_style": "",
            "layout": "IPY_MODEL_4aa2c317734b4f0b9672b7e69d770fe7",
            "_model_module": "@jupyter-widgets/controls",
            "children": [
              "IPY_MODEL_38ab76057ab049609a15b952cdbb26ea",
              "IPY_MODEL_e3474a0c78c14b7a8dad2ecfb36b82d3"
            ]
          }
        },
        "4aa2c317734b4f0b9672b7e69d770fe7": {
          "model_module": "@jupyter-widgets/base",
          "model_name": "LayoutModel",
          "state": {
            "_view_name": "LayoutView",
            "grid_template_rows": null,
            "right": null,
            "justify_content": null,
            "_view_module": "@jupyter-widgets/base",
            "overflow": null,
            "_model_module_version": "1.2.0",
            "_view_count": null,
            "flex_flow": null,
            "width": null,
            "min_width": null,
            "border": null,
            "align_items": null,
            "bottom": null,
            "_model_module": "@jupyter-widgets/base",
            "top": null,
            "grid_column": null,
            "overflow_y": null,
            "overflow_x": null,
            "grid_auto_flow": null,
            "grid_area": null,
            "grid_template_columns": null,
            "flex": null,
            "_model_name": "LayoutModel",
            "justify_items": null,
            "grid_row": null,
            "max_height": null,
            "align_content": null,
            "visibility": null,
            "align_self": null,
            "height": null,
            "min_height": null,
            "padding": null,
            "grid_auto_rows": null,
            "grid_gap": null,
            "max_width": null,
            "order": null,
            "_view_module_version": "1.2.0",
            "grid_template_areas": null,
            "object_position": null,
            "object_fit": null,
            "grid_auto_columns": null,
            "margin": null,
            "display": null,
            "left": null
          }
        },
        "38ab76057ab049609a15b952cdbb26ea": {
          "model_module": "@jupyter-widgets/controls",
          "model_name": "FloatProgressModel",
          "state": {
            "_view_name": "ProgressView",
            "style": "IPY_MODEL_92a970c27cf44eae9adc0dd82f08097a",
            "_dom_classes": [],
            "description": "Downloading: 100%",
            "_model_name": "FloatProgressModel",
            "bar_style": "success",
            "max": 953,
            "_view_module": "@jupyter-widgets/controls",
            "_model_module_version": "1.5.0",
            "value": 953,
            "_view_count": null,
            "_view_module_version": "1.5.0",
            "orientation": "horizontal",
            "min": 0,
            "description_tooltip": null,
            "_model_module": "@jupyter-widgets/controls",
            "layout": "IPY_MODEL_c49bd61645ac423e9abc030e3ebe9915"
          }
        },
        "e3474a0c78c14b7a8dad2ecfb36b82d3": {
          "model_module": "@jupyter-widgets/controls",
          "model_name": "HTMLModel",
          "state": {
            "_view_name": "HTMLView",
            "style": "IPY_MODEL_4f2d89dfd65d49ffa4273857faaaf732",
            "_dom_classes": [],
            "description": "",
            "_model_name": "HTMLModel",
            "placeholder": "​",
            "_view_module": "@jupyter-widgets/controls",
            "_model_module_version": "1.5.0",
            "value": " 953/953 [00:00&lt;00:00, 7.96kB/s]",
            "_view_count": null,
            "_view_module_version": "1.5.0",
            "description_tooltip": null,
            "_model_module": "@jupyter-widgets/controls",
            "layout": "IPY_MODEL_a04f0102bf464c04bfa64439c81a068d"
          }
        },
        "92a970c27cf44eae9adc0dd82f08097a": {
          "model_module": "@jupyter-widgets/controls",
          "model_name": "ProgressStyleModel",
          "state": {
            "_view_name": "StyleView",
            "_model_name": "ProgressStyleModel",
            "description_width": "initial",
            "_view_module": "@jupyter-widgets/base",
            "_model_module_version": "1.5.0",
            "_view_count": null,
            "_view_module_version": "1.2.0",
            "bar_color": null,
            "_model_module": "@jupyter-widgets/controls"
          }
        },
        "c49bd61645ac423e9abc030e3ebe9915": {
          "model_module": "@jupyter-widgets/base",
          "model_name": "LayoutModel",
          "state": {
            "_view_name": "LayoutView",
            "grid_template_rows": null,
            "right": null,
            "justify_content": null,
            "_view_module": "@jupyter-widgets/base",
            "overflow": null,
            "_model_module_version": "1.2.0",
            "_view_count": null,
            "flex_flow": null,
            "width": null,
            "min_width": null,
            "border": null,
            "align_items": null,
            "bottom": null,
            "_model_module": "@jupyter-widgets/base",
            "top": null,
            "grid_column": null,
            "overflow_y": null,
            "overflow_x": null,
            "grid_auto_flow": null,
            "grid_area": null,
            "grid_template_columns": null,
            "flex": null,
            "_model_name": "LayoutModel",
            "justify_items": null,
            "grid_row": null,
            "max_height": null,
            "align_content": null,
            "visibility": null,
            "align_self": null,
            "height": null,
            "min_height": null,
            "padding": null,
            "grid_auto_rows": null,
            "grid_gap": null,
            "max_width": null,
            "order": null,
            "_view_module_version": "1.2.0",
            "grid_template_areas": null,
            "object_position": null,
            "object_fit": null,
            "grid_auto_columns": null,
            "margin": null,
            "display": null,
            "left": null
          }
        },
        "4f2d89dfd65d49ffa4273857faaaf732": {
          "model_module": "@jupyter-widgets/controls",
          "model_name": "DescriptionStyleModel",
          "state": {
            "_view_name": "StyleView",
            "_model_name": "DescriptionStyleModel",
            "description_width": "",
            "_view_module": "@jupyter-widgets/base",
            "_model_module_version": "1.5.0",
            "_view_count": null,
            "_view_module_version": "1.2.0",
            "_model_module": "@jupyter-widgets/controls"
          }
        },
        "a04f0102bf464c04bfa64439c81a068d": {
          "model_module": "@jupyter-widgets/base",
          "model_name": "LayoutModel",
          "state": {
            "_view_name": "LayoutView",
            "grid_template_rows": null,
            "right": null,
            "justify_content": null,
            "_view_module": "@jupyter-widgets/base",
            "overflow": null,
            "_model_module_version": "1.2.0",
            "_view_count": null,
            "flex_flow": null,
            "width": null,
            "min_width": null,
            "border": null,
            "align_items": null,
            "bottom": null,
            "_model_module": "@jupyter-widgets/base",
            "top": null,
            "grid_column": null,
            "overflow_y": null,
            "overflow_x": null,
            "grid_auto_flow": null,
            "grid_area": null,
            "grid_template_columns": null,
            "flex": null,
            "_model_name": "LayoutModel",
            "justify_items": null,
            "grid_row": null,
            "max_height": null,
            "align_content": null,
            "visibility": null,
            "align_self": null,
            "height": null,
            "min_height": null,
            "padding": null,
            "grid_auto_rows": null,
            "grid_gap": null,
            "max_width": null,
            "order": null,
            "_view_module_version": "1.2.0",
            "grid_template_areas": null,
            "object_position": null,
            "object_fit": null,
            "grid_auto_columns": null,
            "margin": null,
            "display": null,
            "left": null
          }
        },
        "c7ad1c1c7f33436189a75ee86445f185": {
          "model_module": "@jupyter-widgets/controls",
          "model_name": "HBoxModel",
          "state": {
            "_view_name": "HBoxView",
            "_dom_classes": [],
            "_model_name": "HBoxModel",
            "_view_module": "@jupyter-widgets/controls",
            "_model_module_version": "1.5.0",
            "_view_count": null,
            "_view_module_version": "1.5.0",
            "box_style": "",
            "layout": "IPY_MODEL_2c773bd9ce4748ba8f3bb13dbcea562e",
            "_model_module": "@jupyter-widgets/controls",
            "children": [
              "IPY_MODEL_91ac2164ec904dd6b04c7545f42e8483",
              "IPY_MODEL_b6172387159f4e0d9daac8806fbcd52f"
            ]
          }
        },
        "2c773bd9ce4748ba8f3bb13dbcea562e": {
          "model_module": "@jupyter-widgets/base",
          "model_name": "LayoutModel",
          "state": {
            "_view_name": "LayoutView",
            "grid_template_rows": null,
            "right": null,
            "justify_content": null,
            "_view_module": "@jupyter-widgets/base",
            "overflow": null,
            "_model_module_version": "1.2.0",
            "_view_count": null,
            "flex_flow": null,
            "width": null,
            "min_width": null,
            "border": null,
            "align_items": null,
            "bottom": null,
            "_model_module": "@jupyter-widgets/base",
            "top": null,
            "grid_column": null,
            "overflow_y": null,
            "overflow_x": null,
            "grid_auto_flow": null,
            "grid_area": null,
            "grid_template_columns": null,
            "flex": null,
            "_model_name": "LayoutModel",
            "justify_items": null,
            "grid_row": null,
            "max_height": null,
            "align_content": null,
            "visibility": null,
            "align_self": null,
            "height": null,
            "min_height": null,
            "padding": null,
            "grid_auto_rows": null,
            "grid_gap": null,
            "max_width": null,
            "order": null,
            "_view_module_version": "1.2.0",
            "grid_template_areas": null,
            "object_position": null,
            "object_fit": null,
            "grid_auto_columns": null,
            "margin": null,
            "display": null,
            "left": null
          }
        },
        "91ac2164ec904dd6b04c7545f42e8483": {
          "model_module": "@jupyter-widgets/controls",
          "model_name": "FloatProgressModel",
          "state": {
            "_view_name": "ProgressView",
            "style": "IPY_MODEL_772ad8d3730e413f85b09afe68895957",
            "_dom_classes": [],
            "description": "Downloading: 100%",
            "_model_name": "FloatProgressModel",
            "bar_style": "success",
            "max": 871891,
            "_view_module": "@jupyter-widgets/controls",
            "_model_module_version": "1.5.0",
            "value": 871891,
            "_view_count": null,
            "_view_module_version": "1.5.0",
            "orientation": "horizontal",
            "min": 0,
            "description_tooltip": null,
            "_model_module": "@jupyter-widgets/controls",
            "layout": "IPY_MODEL_d8840014aab64bd59fe7f29bc5ecad27"
          }
        },
        "b6172387159f4e0d9daac8806fbcd52f": {
          "model_module": "@jupyter-widgets/controls",
          "model_name": "HTMLModel",
          "state": {
            "_view_name": "HTMLView",
            "style": "IPY_MODEL_b0fe3898c7c646bf8639248e8076129c",
            "_dom_classes": [],
            "description": "",
            "_model_name": "HTMLModel",
            "placeholder": "​",
            "_view_module": "@jupyter-widgets/controls",
            "_model_module_version": "1.5.0",
            "value": " 872k/872k [00:00&lt;00:00, 1.91MB/s]",
            "_view_count": null,
            "_view_module_version": "1.5.0",
            "description_tooltip": null,
            "_model_module": "@jupyter-widgets/controls",
            "layout": "IPY_MODEL_efd728d0823841498cd6850e56cc6d65"
          }
        },
        "772ad8d3730e413f85b09afe68895957": {
          "model_module": "@jupyter-widgets/controls",
          "model_name": "ProgressStyleModel",
          "state": {
            "_view_name": "StyleView",
            "_model_name": "ProgressStyleModel",
            "description_width": "initial",
            "_view_module": "@jupyter-widgets/base",
            "_model_module_version": "1.5.0",
            "_view_count": null,
            "_view_module_version": "1.2.0",
            "bar_color": null,
            "_model_module": "@jupyter-widgets/controls"
          }
        },
        "d8840014aab64bd59fe7f29bc5ecad27": {
          "model_module": "@jupyter-widgets/base",
          "model_name": "LayoutModel",
          "state": {
            "_view_name": "LayoutView",
            "grid_template_rows": null,
            "right": null,
            "justify_content": null,
            "_view_module": "@jupyter-widgets/base",
            "overflow": null,
            "_model_module_version": "1.2.0",
            "_view_count": null,
            "flex_flow": null,
            "width": null,
            "min_width": null,
            "border": null,
            "align_items": null,
            "bottom": null,
            "_model_module": "@jupyter-widgets/base",
            "top": null,
            "grid_column": null,
            "overflow_y": null,
            "overflow_x": null,
            "grid_auto_flow": null,
            "grid_area": null,
            "grid_template_columns": null,
            "flex": null,
            "_model_name": "LayoutModel",
            "justify_items": null,
            "grid_row": null,
            "max_height": null,
            "align_content": null,
            "visibility": null,
            "align_self": null,
            "height": null,
            "min_height": null,
            "padding": null,
            "grid_auto_rows": null,
            "grid_gap": null,
            "max_width": null,
            "order": null,
            "_view_module_version": "1.2.0",
            "grid_template_areas": null,
            "object_position": null,
            "object_fit": null,
            "grid_auto_columns": null,
            "margin": null,
            "display": null,
            "left": null
          }
        },
        "b0fe3898c7c646bf8639248e8076129c": {
          "model_module": "@jupyter-widgets/controls",
          "model_name": "DescriptionStyleModel",
          "state": {
            "_view_name": "StyleView",
            "_model_name": "DescriptionStyleModel",
            "description_width": "",
            "_view_module": "@jupyter-widgets/base",
            "_model_module_version": "1.5.0",
            "_view_count": null,
            "_view_module_version": "1.2.0",
            "_model_module": "@jupyter-widgets/controls"
          }
        },
        "efd728d0823841498cd6850e56cc6d65": {
          "model_module": "@jupyter-widgets/base",
          "model_name": "LayoutModel",
          "state": {
            "_view_name": "LayoutView",
            "grid_template_rows": null,
            "right": null,
            "justify_content": null,
            "_view_module": "@jupyter-widgets/base",
            "overflow": null,
            "_model_module_version": "1.2.0",
            "_view_count": null,
            "flex_flow": null,
            "width": null,
            "min_width": null,
            "border": null,
            "align_items": null,
            "bottom": null,
            "_model_module": "@jupyter-widgets/base",
            "top": null,
            "grid_column": null,
            "overflow_y": null,
            "overflow_x": null,
            "grid_auto_flow": null,
            "grid_area": null,
            "grid_template_columns": null,
            "flex": null,
            "_model_name": "LayoutModel",
            "justify_items": null,
            "grid_row": null,
            "max_height": null,
            "align_content": null,
            "visibility": null,
            "align_self": null,
            "height": null,
            "min_height": null,
            "padding": null,
            "grid_auto_rows": null,
            "grid_gap": null,
            "max_width": null,
            "order": null,
            "_view_module_version": "1.2.0",
            "grid_template_areas": null,
            "object_position": null,
            "object_fit": null,
            "grid_auto_columns": null,
            "margin": null,
            "display": null,
            "left": null
          }
        },
        "7c04e8d747824582b0221ce99cdb0e85": {
          "model_module": "@jupyter-widgets/controls",
          "model_name": "HBoxModel",
          "state": {
            "_view_name": "HBoxView",
            "_dom_classes": [],
            "_model_name": "HBoxModel",
            "_view_module": "@jupyter-widgets/controls",
            "_model_module_version": "1.5.0",
            "_view_count": null,
            "_view_module_version": "1.5.0",
            "box_style": "",
            "layout": "IPY_MODEL_ddfb6d8659a24f54af25f0a3f248d1af",
            "_model_module": "@jupyter-widgets/controls",
            "children": [
              "IPY_MODEL_234d0b8bc9834dd1a694afd6e8938aa4",
              "IPY_MODEL_97ff9e7e6bc84bb1947545feef870aa2"
            ]
          }
        },
        "ddfb6d8659a24f54af25f0a3f248d1af": {
          "model_module": "@jupyter-widgets/base",
          "model_name": "LayoutModel",
          "state": {
            "_view_name": "LayoutView",
            "grid_template_rows": null,
            "right": null,
            "justify_content": null,
            "_view_module": "@jupyter-widgets/base",
            "overflow": null,
            "_model_module_version": "1.2.0",
            "_view_count": null,
            "flex_flow": null,
            "width": null,
            "min_width": null,
            "border": null,
            "align_items": null,
            "bottom": null,
            "_model_module": "@jupyter-widgets/base",
            "top": null,
            "grid_column": null,
            "overflow_y": null,
            "overflow_x": null,
            "grid_auto_flow": null,
            "grid_area": null,
            "grid_template_columns": null,
            "flex": null,
            "_model_name": "LayoutModel",
            "justify_items": null,
            "grid_row": null,
            "max_height": null,
            "align_content": null,
            "visibility": null,
            "align_self": null,
            "height": null,
            "min_height": null,
            "padding": null,
            "grid_auto_rows": null,
            "grid_gap": null,
            "max_width": null,
            "order": null,
            "_view_module_version": "1.2.0",
            "grid_template_areas": null,
            "object_position": null,
            "object_fit": null,
            "grid_auto_columns": null,
            "margin": null,
            "display": null,
            "left": null
          }
        },
        "234d0b8bc9834dd1a694afd6e8938aa4": {
          "model_module": "@jupyter-widgets/controls",
          "model_name": "FloatProgressModel",
          "state": {
            "_view_name": "ProgressView",
            "style": "IPY_MODEL_e9ffe85172f14b7b8caed887661f6083",
            "_dom_classes": [],
            "description": "Downloading: 100%",
            "_model_name": "FloatProgressModel",
            "bar_style": "success",
            "max": 112,
            "_view_module": "@jupyter-widgets/controls",
            "_model_module_version": "1.5.0",
            "value": 112,
            "_view_count": null,
            "_view_module_version": "1.5.0",
            "orientation": "horizontal",
            "min": 0,
            "description_tooltip": null,
            "_model_module": "@jupyter-widgets/controls",
            "layout": "IPY_MODEL_52b513fe38de461caed85bbc4aa0d24d"
          }
        },
        "97ff9e7e6bc84bb1947545feef870aa2": {
          "model_module": "@jupyter-widgets/controls",
          "model_name": "HTMLModel",
          "state": {
            "_view_name": "HTMLView",
            "style": "IPY_MODEL_58b56c627b794e2ba391253d50d89bd4",
            "_dom_classes": [],
            "description": "",
            "_model_name": "HTMLModel",
            "placeholder": "​",
            "_view_module": "@jupyter-widgets/controls",
            "_model_module_version": "1.5.0",
            "value": " 112/112 [00:00&lt;00:00, 426B/s]",
            "_view_count": null,
            "_view_module_version": "1.5.0",
            "description_tooltip": null,
            "_model_module": "@jupyter-widgets/controls",
            "layout": "IPY_MODEL_6a72a12b866b47b3be53c051b29f30c6"
          }
        },
        "e9ffe85172f14b7b8caed887661f6083": {
          "model_module": "@jupyter-widgets/controls",
          "model_name": "ProgressStyleModel",
          "state": {
            "_view_name": "StyleView",
            "_model_name": "ProgressStyleModel",
            "description_width": "initial",
            "_view_module": "@jupyter-widgets/base",
            "_model_module_version": "1.5.0",
            "_view_count": null,
            "_view_module_version": "1.2.0",
            "bar_color": null,
            "_model_module": "@jupyter-widgets/controls"
          }
        },
        "52b513fe38de461caed85bbc4aa0d24d": {
          "model_module": "@jupyter-widgets/base",
          "model_name": "LayoutModel",
          "state": {
            "_view_name": "LayoutView",
            "grid_template_rows": null,
            "right": null,
            "justify_content": null,
            "_view_module": "@jupyter-widgets/base",
            "overflow": null,
            "_model_module_version": "1.2.0",
            "_view_count": null,
            "flex_flow": null,
            "width": null,
            "min_width": null,
            "border": null,
            "align_items": null,
            "bottom": null,
            "_model_module": "@jupyter-widgets/base",
            "top": null,
            "grid_column": null,
            "overflow_y": null,
            "overflow_x": null,
            "grid_auto_flow": null,
            "grid_area": null,
            "grid_template_columns": null,
            "flex": null,
            "_model_name": "LayoutModel",
            "justify_items": null,
            "grid_row": null,
            "max_height": null,
            "align_content": null,
            "visibility": null,
            "align_self": null,
            "height": null,
            "min_height": null,
            "padding": null,
            "grid_auto_rows": null,
            "grid_gap": null,
            "max_width": null,
            "order": null,
            "_view_module_version": "1.2.0",
            "grid_template_areas": null,
            "object_position": null,
            "object_fit": null,
            "grid_auto_columns": null,
            "margin": null,
            "display": null,
            "left": null
          }
        },
        "58b56c627b794e2ba391253d50d89bd4": {
          "model_module": "@jupyter-widgets/controls",
          "model_name": "DescriptionStyleModel",
          "state": {
            "_view_name": "StyleView",
            "_model_name": "DescriptionStyleModel",
            "description_width": "",
            "_view_module": "@jupyter-widgets/base",
            "_model_module_version": "1.5.0",
            "_view_count": null,
            "_view_module_version": "1.2.0",
            "_model_module": "@jupyter-widgets/controls"
          }
        },
        "6a72a12b866b47b3be53c051b29f30c6": {
          "model_module": "@jupyter-widgets/base",
          "model_name": "LayoutModel",
          "state": {
            "_view_name": "LayoutView",
            "grid_template_rows": null,
            "right": null,
            "justify_content": null,
            "_view_module": "@jupyter-widgets/base",
            "overflow": null,
            "_model_module_version": "1.2.0",
            "_view_count": null,
            "flex_flow": null,
            "width": null,
            "min_width": null,
            "border": null,
            "align_items": null,
            "bottom": null,
            "_model_module": "@jupyter-widgets/base",
            "top": null,
            "grid_column": null,
            "overflow_y": null,
            "overflow_x": null,
            "grid_auto_flow": null,
            "grid_area": null,
            "grid_template_columns": null,
            "flex": null,
            "_model_name": "LayoutModel",
            "justify_items": null,
            "grid_row": null,
            "max_height": null,
            "align_content": null,
            "visibility": null,
            "align_self": null,
            "height": null,
            "min_height": null,
            "padding": null,
            "grid_auto_rows": null,
            "grid_gap": null,
            "max_width": null,
            "order": null,
            "_view_module_version": "1.2.0",
            "grid_template_areas": null,
            "object_position": null,
            "object_fit": null,
            "grid_auto_columns": null,
            "margin": null,
            "display": null,
            "left": null
          }
        },
        "0175d582e2144534a85c02d505949a5a": {
          "model_module": "@jupyter-widgets/controls",
          "model_name": "HBoxModel",
          "state": {
            "_view_name": "HBoxView",
            "_dom_classes": [],
            "_model_name": "HBoxModel",
            "_view_module": "@jupyter-widgets/controls",
            "_model_module_version": "1.5.0",
            "_view_count": null,
            "_view_module_version": "1.5.0",
            "box_style": "",
            "layout": "IPY_MODEL_5048f46c296e41caa795f3b6ceb6dec6",
            "_model_module": "@jupyter-widgets/controls",
            "children": [
              "IPY_MODEL_9abf60e5222949dda8890128fb92f47a",
              "IPY_MODEL_8179b4b9ad614bf4b81887df26b5cb69"
            ]
          }
        },
        "5048f46c296e41caa795f3b6ceb6dec6": {
          "model_module": "@jupyter-widgets/base",
          "model_name": "LayoutModel",
          "state": {
            "_view_name": "LayoutView",
            "grid_template_rows": null,
            "right": null,
            "justify_content": null,
            "_view_module": "@jupyter-widgets/base",
            "overflow": null,
            "_model_module_version": "1.2.0",
            "_view_count": null,
            "flex_flow": null,
            "width": null,
            "min_width": null,
            "border": null,
            "align_items": null,
            "bottom": null,
            "_model_module": "@jupyter-widgets/base",
            "top": null,
            "grid_column": null,
            "overflow_y": null,
            "overflow_x": null,
            "grid_auto_flow": null,
            "grid_area": null,
            "grid_template_columns": null,
            "flex": null,
            "_model_name": "LayoutModel",
            "justify_items": null,
            "grid_row": null,
            "max_height": null,
            "align_content": null,
            "visibility": null,
            "align_self": null,
            "height": null,
            "min_height": null,
            "padding": null,
            "grid_auto_rows": null,
            "grid_gap": null,
            "max_width": null,
            "order": null,
            "_view_module_version": "1.2.0",
            "grid_template_areas": null,
            "object_position": null,
            "object_fit": null,
            "grid_auto_columns": null,
            "margin": null,
            "display": null,
            "left": null
          }
        },
        "9abf60e5222949dda8890128fb92f47a": {
          "model_module": "@jupyter-widgets/controls",
          "model_name": "FloatProgressModel",
          "state": {
            "_view_name": "ProgressView",
            "style": "IPY_MODEL_7580f92f593c47fc839d7a2b21056553",
            "_dom_classes": [],
            "description": "Downloading: 100%",
            "_model_name": "FloatProgressModel",
            "bar_style": "success",
            "max": 39,
            "_view_module": "@jupyter-widgets/controls",
            "_model_module_version": "1.5.0",
            "value": 39,
            "_view_count": null,
            "_view_module_version": "1.5.0",
            "orientation": "horizontal",
            "min": 0,
            "description_tooltip": null,
            "_model_module": "@jupyter-widgets/controls",
            "layout": "IPY_MODEL_bdc47d643e8b429f8f5a47c106dc6b48"
          }
        },
        "8179b4b9ad614bf4b81887df26b5cb69": {
          "model_module": "@jupyter-widgets/controls",
          "model_name": "HTMLModel",
          "state": {
            "_view_name": "HTMLView",
            "style": "IPY_MODEL_9310243d717d4b8080c74c623135f67b",
            "_dom_classes": [],
            "description": "",
            "_model_name": "HTMLModel",
            "placeholder": "​",
            "_view_module": "@jupyter-widgets/controls",
            "_model_module_version": "1.5.0",
            "value": " 39.0/39.0 [00:00&lt;00:00, 255B/s]",
            "_view_count": null,
            "_view_module_version": "1.5.0",
            "description_tooltip": null,
            "_model_module": "@jupyter-widgets/controls",
            "layout": "IPY_MODEL_371a334cd197469893ca4ec29be036aa"
          }
        },
        "7580f92f593c47fc839d7a2b21056553": {
          "model_module": "@jupyter-widgets/controls",
          "model_name": "ProgressStyleModel",
          "state": {
            "_view_name": "StyleView",
            "_model_name": "ProgressStyleModel",
            "description_width": "initial",
            "_view_module": "@jupyter-widgets/base",
            "_model_module_version": "1.5.0",
            "_view_count": null,
            "_view_module_version": "1.2.0",
            "bar_color": null,
            "_model_module": "@jupyter-widgets/controls"
          }
        },
        "bdc47d643e8b429f8f5a47c106dc6b48": {
          "model_module": "@jupyter-widgets/base",
          "model_name": "LayoutModel",
          "state": {
            "_view_name": "LayoutView",
            "grid_template_rows": null,
            "right": null,
            "justify_content": null,
            "_view_module": "@jupyter-widgets/base",
            "overflow": null,
            "_model_module_version": "1.2.0",
            "_view_count": null,
            "flex_flow": null,
            "width": null,
            "min_width": null,
            "border": null,
            "align_items": null,
            "bottom": null,
            "_model_module": "@jupyter-widgets/base",
            "top": null,
            "grid_column": null,
            "overflow_y": null,
            "overflow_x": null,
            "grid_auto_flow": null,
            "grid_area": null,
            "grid_template_columns": null,
            "flex": null,
            "_model_name": "LayoutModel",
            "justify_items": null,
            "grid_row": null,
            "max_height": null,
            "align_content": null,
            "visibility": null,
            "align_self": null,
            "height": null,
            "min_height": null,
            "padding": null,
            "grid_auto_rows": null,
            "grid_gap": null,
            "max_width": null,
            "order": null,
            "_view_module_version": "1.2.0",
            "grid_template_areas": null,
            "object_position": null,
            "object_fit": null,
            "grid_auto_columns": null,
            "margin": null,
            "display": null,
            "left": null
          }
        },
        "9310243d717d4b8080c74c623135f67b": {
          "model_module": "@jupyter-widgets/controls",
          "model_name": "DescriptionStyleModel",
          "state": {
            "_view_name": "StyleView",
            "_model_name": "DescriptionStyleModel",
            "description_width": "",
            "_view_module": "@jupyter-widgets/base",
            "_model_module_version": "1.5.0",
            "_view_count": null,
            "_view_module_version": "1.2.0",
            "_model_module": "@jupyter-widgets/controls"
          }
        },
        "371a334cd197469893ca4ec29be036aa": {
          "model_module": "@jupyter-widgets/base",
          "model_name": "LayoutModel",
          "state": {
            "_view_name": "LayoutView",
            "grid_template_rows": null,
            "right": null,
            "justify_content": null,
            "_view_module": "@jupyter-widgets/base",
            "overflow": null,
            "_model_module_version": "1.2.0",
            "_view_count": null,
            "flex_flow": null,
            "width": null,
            "min_width": null,
            "border": null,
            "align_items": null,
            "bottom": null,
            "_model_module": "@jupyter-widgets/base",
            "top": null,
            "grid_column": null,
            "overflow_y": null,
            "overflow_x": null,
            "grid_auto_flow": null,
            "grid_area": null,
            "grid_template_columns": null,
            "flex": null,
            "_model_name": "LayoutModel",
            "justify_items": null,
            "grid_row": null,
            "max_height": null,
            "align_content": null,
            "visibility": null,
            "align_self": null,
            "height": null,
            "min_height": null,
            "padding": null,
            "grid_auto_rows": null,
            "grid_gap": null,
            "max_width": null,
            "order": null,
            "_view_module_version": "1.2.0",
            "grid_template_areas": null,
            "object_position": null,
            "object_fit": null,
            "grid_auto_columns": null,
            "margin": null,
            "display": null,
            "left": null
          }
        },
        "0a1c6a2d41b14be6b01468988a82d975": {
          "model_module": "@jupyter-widgets/controls",
          "model_name": "HBoxModel",
          "state": {
            "_view_name": "HBoxView",
            "_dom_classes": [],
            "_model_name": "HBoxModel",
            "_view_module": "@jupyter-widgets/controls",
            "_model_module_version": "1.5.0",
            "_view_count": null,
            "_view_module_version": "1.5.0",
            "box_style": "",
            "layout": "IPY_MODEL_651b477857a34cdda249c4c05de8e9d5",
            "_model_module": "@jupyter-widgets/controls",
            "children": [
              "IPY_MODEL_7bddfdf6e4c3470b95a9875386d1db2b",
              "IPY_MODEL_bfd47212004f43fb962aead0b3cf1d1a"
            ]
          }
        },
        "651b477857a34cdda249c4c05de8e9d5": {
          "model_module": "@jupyter-widgets/base",
          "model_name": "LayoutModel",
          "state": {
            "_view_name": "LayoutView",
            "grid_template_rows": null,
            "right": null,
            "justify_content": null,
            "_view_module": "@jupyter-widgets/base",
            "overflow": null,
            "_model_module_version": "1.2.0",
            "_view_count": null,
            "flex_flow": null,
            "width": null,
            "min_width": null,
            "border": null,
            "align_items": null,
            "bottom": null,
            "_model_module": "@jupyter-widgets/base",
            "top": null,
            "grid_column": null,
            "overflow_y": null,
            "overflow_x": null,
            "grid_auto_flow": null,
            "grid_area": null,
            "grid_template_columns": null,
            "flex": null,
            "_model_name": "LayoutModel",
            "justify_items": null,
            "grid_row": null,
            "max_height": null,
            "align_content": null,
            "visibility": null,
            "align_self": null,
            "height": null,
            "min_height": null,
            "padding": null,
            "grid_auto_rows": null,
            "grid_gap": null,
            "max_width": null,
            "order": null,
            "_view_module_version": "1.2.0",
            "grid_template_areas": null,
            "object_position": null,
            "object_fit": null,
            "grid_auto_columns": null,
            "margin": null,
            "display": null,
            "left": null
          }
        },
        "7bddfdf6e4c3470b95a9875386d1db2b": {
          "model_module": "@jupyter-widgets/controls",
          "model_name": "FloatProgressModel",
          "state": {
            "_view_name": "ProgressView",
            "style": "IPY_MODEL_72d5147e80864556adfee0ec5eb1def3",
            "_dom_classes": [],
            "description": "Downloading: 100%",
            "_model_name": "FloatProgressModel",
            "bar_style": "success",
            "max": 669491321,
            "_view_module": "@jupyter-widgets/controls",
            "_model_module_version": "1.5.0",
            "value": 669491321,
            "_view_count": null,
            "_view_module_version": "1.5.0",
            "orientation": "horizontal",
            "min": 0,
            "description_tooltip": null,
            "_model_module": "@jupyter-widgets/controls",
            "layout": "IPY_MODEL_4f663fc09f594bf2ab514ec0842cf233"
          }
        },
        "bfd47212004f43fb962aead0b3cf1d1a": {
          "model_module": "@jupyter-widgets/controls",
          "model_name": "HTMLModel",
          "state": {
            "_view_name": "HTMLView",
            "style": "IPY_MODEL_7bf26893035c4751bb01ea40f94f91b1",
            "_dom_classes": [],
            "description": "",
            "_model_name": "HTMLModel",
            "placeholder": "​",
            "_view_module": "@jupyter-widgets/controls",
            "_model_module_version": "1.5.0",
            "value": " 669M/669M [00:17&lt;00:00, 39.1MB/s]",
            "_view_count": null,
            "_view_module_version": "1.5.0",
            "description_tooltip": null,
            "_model_module": "@jupyter-widgets/controls",
            "layout": "IPY_MODEL_aa8df807127c4efa8c0960a387c2c0c8"
          }
        },
        "72d5147e80864556adfee0ec5eb1def3": {
          "model_module": "@jupyter-widgets/controls",
          "model_name": "ProgressStyleModel",
          "state": {
            "_view_name": "StyleView",
            "_model_name": "ProgressStyleModel",
            "description_width": "initial",
            "_view_module": "@jupyter-widgets/base",
            "_model_module_version": "1.5.0",
            "_view_count": null,
            "_view_module_version": "1.2.0",
            "bar_color": null,
            "_model_module": "@jupyter-widgets/controls"
          }
        },
        "4f663fc09f594bf2ab514ec0842cf233": {
          "model_module": "@jupyter-widgets/base",
          "model_name": "LayoutModel",
          "state": {
            "_view_name": "LayoutView",
            "grid_template_rows": null,
            "right": null,
            "justify_content": null,
            "_view_module": "@jupyter-widgets/base",
            "overflow": null,
            "_model_module_version": "1.2.0",
            "_view_count": null,
            "flex_flow": null,
            "width": null,
            "min_width": null,
            "border": null,
            "align_items": null,
            "bottom": null,
            "_model_module": "@jupyter-widgets/base",
            "top": null,
            "grid_column": null,
            "overflow_y": null,
            "overflow_x": null,
            "grid_auto_flow": null,
            "grid_area": null,
            "grid_template_columns": null,
            "flex": null,
            "_model_name": "LayoutModel",
            "justify_items": null,
            "grid_row": null,
            "max_height": null,
            "align_content": null,
            "visibility": null,
            "align_self": null,
            "height": null,
            "min_height": null,
            "padding": null,
            "grid_auto_rows": null,
            "grid_gap": null,
            "max_width": null,
            "order": null,
            "_view_module_version": "1.2.0",
            "grid_template_areas": null,
            "object_position": null,
            "object_fit": null,
            "grid_auto_columns": null,
            "margin": null,
            "display": null,
            "left": null
          }
        },
        "7bf26893035c4751bb01ea40f94f91b1": {
          "model_module": "@jupyter-widgets/controls",
          "model_name": "DescriptionStyleModel",
          "state": {
            "_view_name": "StyleView",
            "_model_name": "DescriptionStyleModel",
            "description_width": "",
            "_view_module": "@jupyter-widgets/base",
            "_model_module_version": "1.5.0",
            "_view_count": null,
            "_view_module_version": "1.2.0",
            "_model_module": "@jupyter-widgets/controls"
          }
        },
        "aa8df807127c4efa8c0960a387c2c0c8": {
          "model_module": "@jupyter-widgets/base",
          "model_name": "LayoutModel",
          "state": {
            "_view_name": "LayoutView",
            "grid_template_rows": null,
            "right": null,
            "justify_content": null,
            "_view_module": "@jupyter-widgets/base",
            "overflow": null,
            "_model_module_version": "1.2.0",
            "_view_count": null,
            "flex_flow": null,
            "width": null,
            "min_width": null,
            "border": null,
            "align_items": null,
            "bottom": null,
            "_model_module": "@jupyter-widgets/base",
            "top": null,
            "grid_column": null,
            "overflow_y": null,
            "overflow_x": null,
            "grid_auto_flow": null,
            "grid_area": null,
            "grid_template_columns": null,
            "flex": null,
            "_model_name": "LayoutModel",
            "justify_items": null,
            "grid_row": null,
            "max_height": null,
            "align_content": null,
            "visibility": null,
            "align_self": null,
            "height": null,
            "min_height": null,
            "padding": null,
            "grid_auto_rows": null,
            "grid_gap": null,
            "max_width": null,
            "order": null,
            "_view_module_version": "1.2.0",
            "grid_template_areas": null,
            "object_position": null,
            "object_fit": null,
            "grid_auto_columns": null,
            "margin": null,
            "display": null,
            "left": null
          }
        }
      }
    }
  },
  "cells": [
    {
      "cell_type": "markdown",
      "metadata": {
        "id": "smtnM8XFfO5b"
      },
      "source": [
        "Install and Import Dependencies "
      ]
    },
    {
      "cell_type": "code",
      "metadata": {
        "colab": {
          "base_uri": "https://localhost:8080/"
        },
        "id": "2SsaMIP3nALe",
        "outputId": "db5cb831-0fcd-4075-96ad-2ae5f3c4532c"
      },
      "source": [
        "!pip install torch==1.8.1+cu111 torchvision==0.9.1+cu111 torchaudio===0.8.1 -f https://download.pytorch.org/whl/torch_stable.html"
      ],
      "execution_count": null,
      "outputs": [
        {
          "output_type": "stream",
          "text": [
            "Looking in links: https://download.pytorch.org/whl/torch_stable.html\n",
            "Collecting torch==1.8.1+cu111\n",
            "\u001b[?25l  Downloading https://download.pytorch.org/whl/cu111/torch-1.8.1%2Bcu111-cp37-cp37m-linux_x86_64.whl (1982.2MB)\n",
            "\u001b[K     |█████████████▌                  | 834.1MB 1.3MB/s eta 0:14:18tcmalloc: large alloc 1147494400 bytes == 0x558db6572000 @  0x7f4a18859615 0x558d7d9e8cdc 0x558d7dac852a 0x558d7d9ebafd 0x558d7dadcfed 0x558d7da5f988 0x558d7da5a4ae 0x558d7d9ed3ea 0x558d7da5f7f0 0x558d7da5a4ae 0x558d7d9ed3ea 0x558d7da5c32a 0x558d7dadde36 0x558d7da5b853 0x558d7dadde36 0x558d7da5b853 0x558d7dadde36 0x558d7da5b853 0x558d7dadde36 0x558d7db603e1 0x558d7dac06a9 0x558d7da2bcc4 0x558d7d9ec559 0x558d7da604f8 0x558d7d9ed30a 0x558d7da5b3b5 0x558d7da5a7ad 0x558d7d9ed3ea 0x558d7da5b3b5 0x558d7d9ed30a 0x558d7da5b3b5\n",
            "\u001b[K     |█████████████████               | 1055.7MB 1.4MB/s eta 0:11:10tcmalloc: large alloc 1434370048 bytes == 0x558dfabc8000 @  0x7f4a18859615 0x558d7d9e8cdc 0x558d7dac852a 0x558d7d9ebafd 0x558d7dadcfed 0x558d7da5f988 0x558d7da5a4ae 0x558d7d9ed3ea 0x558d7da5f7f0 0x558d7da5a4ae 0x558d7d9ed3ea 0x558d7da5c32a 0x558d7dadde36 0x558d7da5b853 0x558d7dadde36 0x558d7da5b853 0x558d7dadde36 0x558d7da5b853 0x558d7dadde36 0x558d7db603e1 0x558d7dac06a9 0x558d7da2bcc4 0x558d7d9ec559 0x558d7da604f8 0x558d7d9ed30a 0x558d7da5b3b5 0x558d7da5a7ad 0x558d7d9ed3ea 0x558d7da5b3b5 0x558d7d9ed30a 0x558d7da5b3b5\n",
            "\u001b[K     |█████████████████████▋          | 1336.2MB 2.4MB/s eta 0:04:24tcmalloc: large alloc 1792966656 bytes == 0x558d7f9fa000 @  0x7f4a18859615 0x558d7d9e8cdc 0x558d7dac852a 0x558d7d9ebafd 0x558d7dadcfed 0x558d7da5f988 0x558d7da5a4ae 0x558d7d9ed3ea 0x558d7da5f7f0 0x558d7da5a4ae 0x558d7d9ed3ea 0x558d7da5c32a 0x558d7dadde36 0x558d7da5b853 0x558d7dadde36 0x558d7da5b853 0x558d7dadde36 0x558d7da5b853 0x558d7dadde36 0x558d7db603e1 0x558d7dac06a9 0x558d7da2bcc4 0x558d7d9ec559 0x558d7da604f8 0x558d7d9ed30a 0x558d7da5b3b5 0x558d7da5a7ad 0x558d7d9ed3ea 0x558d7da5b3b5 0x558d7d9ed30a 0x558d7da5b3b5\n",
            "\u001b[K     |███████████████████████████▎    | 1691.1MB 1.4MB/s eta 0:03:24tcmalloc: large alloc 2241208320 bytes == 0x558dea7e2000 @  0x7f4a18859615 0x558d7d9e8cdc 0x558d7dac852a 0x558d7d9ebafd 0x558d7dadcfed 0x558d7da5f988 0x558d7da5a4ae 0x558d7d9ed3ea 0x558d7da5f7f0 0x558d7da5a4ae 0x558d7d9ed3ea 0x558d7da5c32a 0x558d7dadde36 0x558d7da5b853 0x558d7dadde36 0x558d7da5b853 0x558d7dadde36 0x558d7da5b853 0x558d7dadde36 0x558d7db603e1 0x558d7dac06a9 0x558d7da2bcc4 0x558d7d9ec559 0x558d7da604f8 0x558d7d9ed30a 0x558d7da5b3b5 0x558d7da5a7ad 0x558d7d9ed3ea 0x558d7da5b3b5 0x558d7d9ed30a 0x558d7da5b3b5\n",
            "\u001b[K     |████████████████████████████████| 1982.2MB 1.2MB/s eta 0:00:01tcmalloc: large alloc 1982177280 bytes == 0x558e70144000 @  0x7f4a188581e7 0x558d7da1ef37 0x558d7d9e8cdc 0x558d7dac852a 0x558d7d9ebafd 0x558d7dadcfed 0x558d7da5f988 0x558d7da5a4ae 0x558d7d9ed3ea 0x558d7da5b60e 0x558d7da5a4ae 0x558d7d9ed3ea 0x558d7da5b60e 0x558d7da5a4ae 0x558d7d9ed3ea 0x558d7da5b60e 0x558d7da5a4ae 0x558d7d9ed3ea 0x558d7da5b60e 0x558d7da5a4ae 0x558d7d9ed3ea 0x558d7da5b60e 0x558d7d9ed30a 0x558d7da5b60e 0x558d7da5a4ae 0x558d7d9ed3ea 0x558d7da5c32a 0x558d7da5a4ae 0x558d7d9ed3ea 0x558d7da5c32a 0x558d7da5a4ae\n",
            "tcmalloc: large alloc 2477727744 bytes == 0x558f5a864000 @  0x7f4a18859615 0x558d7d9e8cdc 0x558d7dac852a 0x558d7d9ebafd 0x558d7dadcfed 0x558d7da5f988 0x558d7da5a4ae 0x558d7d9ed3ea 0x558d7da5b60e 0x558d7da5a4ae 0x558d7d9ed3ea 0x558d7da5b60e 0x558d7da5a4ae 0x558d7d9ed3ea 0x558d7da5b60e 0x558d7da5a4ae 0x558d7d9ed3ea 0x558d7da5b60e 0x558d7da5a4ae 0x558d7d9ed3ea 0x558d7da5b60e 0x558d7d9ed30a 0x558d7da5b60e 0x558d7da5a4ae 0x558d7d9ed3ea 0x558d7da5c32a 0x558d7da5a4ae 0x558d7d9ed3ea 0x558d7da5c32a 0x558d7da5a4ae 0x558d7d9eda81\n",
            "\u001b[K     |████████████████████████████████| 1982.2MB 5.1kB/s \n",
            "\u001b[?25hCollecting torchvision==0.9.1+cu111\n",
            "\u001b[?25l  Downloading https://download.pytorch.org/whl/cu111/torchvision-0.9.1%2Bcu111-cp37-cp37m-linux_x86_64.whl (17.6MB)\n",
            "\u001b[K     |████████████████████████████████| 17.6MB 258kB/s \n",
            "\u001b[?25hCollecting torchaudio===0.8.1\n",
            "\u001b[?25l  Downloading https://files.pythonhosted.org/packages/aa/55/01ad9244bcd595e39cea5ce30726a7fe02fd963d07daeb136bfe7e23f0a5/torchaudio-0.8.1-cp37-cp37m-manylinux1_x86_64.whl (1.9MB)\n",
            "\u001b[K     |████████████████████████████████| 1.9MB 26.6MB/s \n",
            "\u001b[?25hRequirement already satisfied: numpy in /usr/local/lib/python3.7/dist-packages (from torch==1.8.1+cu111) (1.19.5)\n",
            "Requirement already satisfied: typing-extensions in /usr/local/lib/python3.7/dist-packages (from torch==1.8.1+cu111) (3.7.4.3)\n",
            "Requirement already satisfied: pillow>=4.1.1 in /usr/local/lib/python3.7/dist-packages (from torchvision==0.9.1+cu111) (7.1.2)\n",
            "Installing collected packages: torch, torchvision, torchaudio\n",
            "  Found existing installation: torch 1.8.1+cu101\n",
            "    Uninstalling torch-1.8.1+cu101:\n",
            "      Successfully uninstalled torch-1.8.1+cu101\n",
            "  Found existing installation: torchvision 0.9.1+cu101\n",
            "    Uninstalling torchvision-0.9.1+cu101:\n",
            "      Successfully uninstalled torchvision-0.9.1+cu101\n",
            "Successfully installed torch-1.8.1+cu111 torchaudio-0.8.1 torchvision-0.9.1+cu111\n"
          ],
          "name": "stdout"
        }
      ]
    },
    {
      "cell_type": "code",
      "metadata": {
        "colab": {
          "base_uri": "https://localhost:8080/"
        },
        "id": "2TBhJN9wnETe",
        "outputId": "7b31aed2-3b32-4407-a506-fbb1b825f4a2"
      },
      "source": [
        "!pip install transformers requests beautifulsoup4 pandas numpy"
      ],
      "execution_count": null,
      "outputs": [
        {
          "output_type": "stream",
          "text": [
            "Collecting transformers\n",
            "\u001b[?25l  Downloading https://files.pythonhosted.org/packages/d5/43/cfe4ee779bbd6a678ac6a97c5a5cdeb03c35f9eaebbb9720b036680f9a2d/transformers-4.6.1-py3-none-any.whl (2.2MB)\n",
            "\r\u001b[K     |▏                               | 10kB 15.1MB/s eta 0:00:01\r\u001b[K     |▎                               | 20kB 20.4MB/s eta 0:00:01\r\u001b[K     |▍                               | 30kB 25.0MB/s eta 0:00:01\r\u001b[K     |▋                               | 40kB 27.0MB/s eta 0:00:01\r\u001b[K     |▊                               | 51kB 28.2MB/s eta 0:00:01\r\u001b[K     |▉                               | 61kB 30.3MB/s eta 0:00:01\r\u001b[K     |█                               | 71kB 30.5MB/s eta 0:00:01\r\u001b[K     |█▏                              | 81kB 31.3MB/s eta 0:00:01\r\u001b[K     |█▎                              | 92kB 32.1MB/s eta 0:00:01\r\u001b[K     |█▌                              | 102kB 31.9MB/s eta 0:00:01\r\u001b[K     |█▋                              | 112kB 31.9MB/s eta 0:00:01\r\u001b[K     |█▊                              | 122kB 31.9MB/s eta 0:00:01\r\u001b[K     |██                              | 133kB 31.9MB/s eta 0:00:01\r\u001b[K     |██                              | 143kB 31.9MB/s eta 0:00:01\r\u001b[K     |██▏                             | 153kB 31.9MB/s eta 0:00:01\r\u001b[K     |██▎                             | 163kB 31.9MB/s eta 0:00:01\r\u001b[K     |██▌                             | 174kB 31.9MB/s eta 0:00:01\r\u001b[K     |██▋                             | 184kB 31.9MB/s eta 0:00:01\r\u001b[K     |██▊                             | 194kB 31.9MB/s eta 0:00:01\r\u001b[K     |███                             | 204kB 31.9MB/s eta 0:00:01\r\u001b[K     |███                             | 215kB 31.9MB/s eta 0:00:01\r\u001b[K     |███▏                            | 225kB 31.9MB/s eta 0:00:01\r\u001b[K     |███▍                            | 235kB 31.9MB/s eta 0:00:01\r\u001b[K     |███▌                            | 245kB 31.9MB/s eta 0:00:01\r\u001b[K     |███▋                            | 256kB 31.9MB/s eta 0:00:01\r\u001b[K     |███▉                            | 266kB 31.9MB/s eta 0:00:01\r\u001b[K     |████                            | 276kB 31.9MB/s eta 0:00:01\r\u001b[K     |████                            | 286kB 31.9MB/s eta 0:00:01\r\u001b[K     |████▎                           | 296kB 31.9MB/s eta 0:00:01\r\u001b[K     |████▍                           | 307kB 31.9MB/s eta 0:00:01\r\u001b[K     |████▌                           | 317kB 31.9MB/s eta 0:00:01\r\u001b[K     |████▋                           | 327kB 31.9MB/s eta 0:00:01\r\u001b[K     |████▉                           | 337kB 31.9MB/s eta 0:00:01\r\u001b[K     |█████                           | 348kB 31.9MB/s eta 0:00:01\r\u001b[K     |█████                           | 358kB 31.9MB/s eta 0:00:01\r\u001b[K     |█████▎                          | 368kB 31.9MB/s eta 0:00:01\r\u001b[K     |█████▍                          | 378kB 31.9MB/s eta 0:00:01\r\u001b[K     |█████▌                          | 389kB 31.9MB/s eta 0:00:01\r\u001b[K     |█████▊                          | 399kB 31.9MB/s eta 0:00:01\r\u001b[K     |█████▉                          | 409kB 31.9MB/s eta 0:00:01\r\u001b[K     |██████                          | 419kB 31.9MB/s eta 0:00:01\r\u001b[K     |██████▏                         | 430kB 31.9MB/s eta 0:00:01\r\u001b[K     |██████▎                         | 440kB 31.9MB/s eta 0:00:01\r\u001b[K     |██████▍                         | 450kB 31.9MB/s eta 0:00:01\r\u001b[K     |██████▌                         | 460kB 31.9MB/s eta 0:00:01\r\u001b[K     |██████▊                         | 471kB 31.9MB/s eta 0:00:01\r\u001b[K     |██████▉                         | 481kB 31.9MB/s eta 0:00:01\r\u001b[K     |███████                         | 491kB 31.9MB/s eta 0:00:01\r\u001b[K     |███████▏                        | 501kB 31.9MB/s eta 0:00:01\r\u001b[K     |███████▎                        | 512kB 31.9MB/s eta 0:00:01\r\u001b[K     |███████▍                        | 522kB 31.9MB/s eta 0:00:01\r\u001b[K     |███████▋                        | 532kB 31.9MB/s eta 0:00:01\r\u001b[K     |███████▊                        | 542kB 31.9MB/s eta 0:00:01\r\u001b[K     |███████▉                        | 552kB 31.9MB/s eta 0:00:01\r\u001b[K     |████████                        | 563kB 31.9MB/s eta 0:00:01\r\u001b[K     |████████▏                       | 573kB 31.9MB/s eta 0:00:01\r\u001b[K     |████████▎                       | 583kB 31.9MB/s eta 0:00:01\r\u001b[K     |████████▌                       | 593kB 31.9MB/s eta 0:00:01\r\u001b[K     |████████▋                       | 604kB 31.9MB/s eta 0:00:01\r\u001b[K     |████████▊                       | 614kB 31.9MB/s eta 0:00:01\r\u001b[K     |████████▉                       | 624kB 31.9MB/s eta 0:00:01\r\u001b[K     |█████████                       | 634kB 31.9MB/s eta 0:00:01\r\u001b[K     |█████████▏                      | 645kB 31.9MB/s eta 0:00:01\r\u001b[K     |█████████▎                      | 655kB 31.9MB/s eta 0:00:01\r\u001b[K     |█████████▌                      | 665kB 31.9MB/s eta 0:00:01\r\u001b[K     |█████████▋                      | 675kB 31.9MB/s eta 0:00:01\r\u001b[K     |█████████▊                      | 686kB 31.9MB/s eta 0:00:01\r\u001b[K     |██████████                      | 696kB 31.9MB/s eta 0:00:01\r\u001b[K     |██████████                      | 706kB 31.9MB/s eta 0:00:01\r\u001b[K     |██████████▏                     | 716kB 31.9MB/s eta 0:00:01\r\u001b[K     |██████████▍                     | 727kB 31.9MB/s eta 0:00:01\r\u001b[K     |██████████▌                     | 737kB 31.9MB/s eta 0:00:01\r\u001b[K     |██████████▋                     | 747kB 31.9MB/s eta 0:00:01\r\u001b[K     |██████████▉                     | 757kB 31.9MB/s eta 0:00:01\r\u001b[K     |███████████                     | 768kB 31.9MB/s eta 0:00:01\r\u001b[K     |███████████                     | 778kB 31.9MB/s eta 0:00:01\r\u001b[K     |███████████▏                    | 788kB 31.9MB/s eta 0:00:01\r\u001b[K     |███████████▍                    | 798kB 31.9MB/s eta 0:00:01\r\u001b[K     |███████████▌                    | 808kB 31.9MB/s eta 0:00:01\r\u001b[K     |███████████▋                    | 819kB 31.9MB/s eta 0:00:01\r\u001b[K     |███████████▉                    | 829kB 31.9MB/s eta 0:00:01\r\u001b[K     |████████████                    | 839kB 31.9MB/s eta 0:00:01\r\u001b[K     |████████████                    | 849kB 31.9MB/s eta 0:00:01\r\u001b[K     |████████████▎                   | 860kB 31.9MB/s eta 0:00:01\r\u001b[K     |████████████▍                   | 870kB 31.9MB/s eta 0:00:01\r\u001b[K     |████████████▌                   | 880kB 31.9MB/s eta 0:00:01\r\u001b[K     |████████████▊                   | 890kB 31.9MB/s eta 0:00:01\r\u001b[K     |████████████▉                   | 901kB 31.9MB/s eta 0:00:01\r\u001b[K     |█████████████                   | 911kB 31.9MB/s eta 0:00:01\r\u001b[K     |█████████████                   | 921kB 31.9MB/s eta 0:00:01\r\u001b[K     |█████████████▎                  | 931kB 31.9MB/s eta 0:00:01\r\u001b[K     |█████████████▍                  | 942kB 31.9MB/s eta 0:00:01\r\u001b[K     |█████████████▌                  | 952kB 31.9MB/s eta 0:00:01\r\u001b[K     |█████████████▊                  | 962kB 31.9MB/s eta 0:00:01\r\u001b[K     |█████████████▉                  | 972kB 31.9MB/s eta 0:00:01\r\u001b[K     |██████████████                  | 983kB 31.9MB/s eta 0:00:01\r\u001b[K     |██████████████▏                 | 993kB 31.9MB/s eta 0:00:01\r\u001b[K     |██████████████▎                 | 1.0MB 31.9MB/s eta 0:00:01\r\u001b[K     |██████████████▍                 | 1.0MB 31.9MB/s eta 0:00:01\r\u001b[K     |██████████████▋                 | 1.0MB 31.9MB/s eta 0:00:01\r\u001b[K     |██████████████▊                 | 1.0MB 31.9MB/s eta 0:00:01\r\u001b[K     |██████████████▉                 | 1.0MB 31.9MB/s eta 0:00:01\r\u001b[K     |███████████████                 | 1.1MB 31.9MB/s eta 0:00:01\r\u001b[K     |███████████████▏                | 1.1MB 31.9MB/s eta 0:00:01\r\u001b[K     |███████████████▎                | 1.1MB 31.9MB/s eta 0:00:01\r\u001b[K     |███████████████▍                | 1.1MB 31.9MB/s eta 0:00:01\r\u001b[K     |███████████████▋                | 1.1MB 31.9MB/s eta 0:00:01\r\u001b[K     |███████████████▊                | 1.1MB 31.9MB/s eta 0:00:01\r\u001b[K     |███████████████▉                | 1.1MB 31.9MB/s eta 0:00:01\r\u001b[K     |████████████████                | 1.1MB 31.9MB/s eta 0:00:01\r\u001b[K     |████████████████▏               | 1.1MB 31.9MB/s eta 0:00:01\r\u001b[K     |████████████████▎               | 1.1MB 31.9MB/s eta 0:00:01\r\u001b[K     |████████████████▌               | 1.2MB 31.9MB/s eta 0:00:01\r\u001b[K     |████████████████▋               | 1.2MB 31.9MB/s eta 0:00:01\r\u001b[K     |████████████████▊               | 1.2MB 31.9MB/s eta 0:00:01\r\u001b[K     |█████████████████               | 1.2MB 31.9MB/s eta 0:00:01\r\u001b[K     |█████████████████               | 1.2MB 31.9MB/s eta 0:00:01\r\u001b[K     |█████████████████▏              | 1.2MB 31.9MB/s eta 0:00:01\r\u001b[K     |█████████████████▎              | 1.2MB 31.9MB/s eta 0:00:01\r\u001b[K     |█████████████████▌              | 1.2MB 31.9MB/s eta 0:00:01\r\u001b[K     |█████████████████▋              | 1.2MB 31.9MB/s eta 0:00:01\r\u001b[K     |█████████████████▊              | 1.2MB 31.9MB/s eta 0:00:01\r\u001b[K     |██████████████████              | 1.3MB 31.9MB/s eta 0:00:01\r\u001b[K     |██████████████████              | 1.3MB 31.9MB/s eta 0:00:01\r\u001b[K     |██████████████████▏             | 1.3MB 31.9MB/s eta 0:00:01\r\u001b[K     |██████████████████▍             | 1.3MB 31.9MB/s eta 0:00:01\r\u001b[K     |██████████████████▌             | 1.3MB 31.9MB/s eta 0:00:01\r\u001b[K     |██████████████████▋             | 1.3MB 31.9MB/s eta 0:00:01\r\u001b[K     |██████████████████▉             | 1.3MB 31.9MB/s eta 0:00:01\r\u001b[K     |███████████████████             | 1.3MB 31.9MB/s eta 0:00:01\r\u001b[K     |███████████████████             | 1.3MB 31.9MB/s eta 0:00:01\r\u001b[K     |███████████████████▎            | 1.4MB 31.9MB/s eta 0:00:01\r\u001b[K     |███████████████████▍            | 1.4MB 31.9MB/s eta 0:00:01\r\u001b[K     |███████████████████▌            | 1.4MB 31.9MB/s eta 0:00:01\r\u001b[K     |███████████████████▋            | 1.4MB 31.9MB/s eta 0:00:01\r\u001b[K     |███████████████████▉            | 1.4MB 31.9MB/s eta 0:00:01\r\u001b[K     |████████████████████            | 1.4MB 31.9MB/s eta 0:00:01\r\u001b[K     |████████████████████            | 1.4MB 31.9MB/s eta 0:00:01\r\u001b[K     |████████████████████▎           | 1.4MB 31.9MB/s eta 0:00:01\r\u001b[K     |████████████████████▍           | 1.4MB 31.9MB/s eta 0:00:01\r\u001b[K     |████████████████████▌           | 1.4MB 31.9MB/s eta 0:00:01\r\u001b[K     |████████████████████▊           | 1.5MB 31.9MB/s eta 0:00:01\r\u001b[K     |████████████████████▉           | 1.5MB 31.9MB/s eta 0:00:01\r\u001b[K     |█████████████████████           | 1.5MB 31.9MB/s eta 0:00:01\r\u001b[K     |█████████████████████▏          | 1.5MB 31.9MB/s eta 0:00:01\r\u001b[K     |█████████████████████▎          | 1.5MB 31.9MB/s eta 0:00:01\r\u001b[K     |█████████████████████▍          | 1.5MB 31.9MB/s eta 0:00:01\r\u001b[K     |█████████████████████▋          | 1.5MB 31.9MB/s eta 0:00:01\r\u001b[K     |█████████████████████▊          | 1.5MB 31.9MB/s eta 0:00:01\r\u001b[K     |█████████████████████▉          | 1.5MB 31.9MB/s eta 0:00:01\r\u001b[K     |██████████████████████          | 1.5MB 31.9MB/s eta 0:00:01\r\u001b[K     |██████████████████████▏         | 1.6MB 31.9MB/s eta 0:00:01\r\u001b[K     |██████████████████████▎         | 1.6MB 31.9MB/s eta 0:00:01\r\u001b[K     |██████████████████████▍         | 1.6MB 31.9MB/s eta 0:00:01\r\u001b[K     |██████████████████████▋         | 1.6MB 31.9MB/s eta 0:00:01\r\u001b[K     |██████████████████████▊         | 1.6MB 31.9MB/s eta 0:00:01\r\u001b[K     |██████████████████████▉         | 1.6MB 31.9MB/s eta 0:00:01\r\u001b[K     |███████████████████████         | 1.6MB 31.9MB/s eta 0:00:01\r\u001b[K     |███████████████████████▏        | 1.6MB 31.9MB/s eta 0:00:01\r\u001b[K     |███████████████████████▎        | 1.6MB 31.9MB/s eta 0:00:01\r\u001b[K     |███████████████████████▌        | 1.6MB 31.9MB/s eta 0:00:01\r\u001b[K     |███████████████████████▋        | 1.7MB 31.9MB/s eta 0:00:01\r\u001b[K     |███████████████████████▊        | 1.7MB 31.9MB/s eta 0:00:01\r\u001b[K     |███████████████████████▉        | 1.7MB 31.9MB/s eta 0:00:01\r\u001b[K     |████████████████████████        | 1.7MB 31.9MB/s eta 0:00:01\r\u001b[K     |████████████████████████▏       | 1.7MB 31.9MB/s eta 0:00:01\r\u001b[K     |████████████████████████▎       | 1.7MB 31.9MB/s eta 0:00:01\r\u001b[K     |████████████████████████▌       | 1.7MB 31.9MB/s eta 0:00:01\r\u001b[K     |████████████████████████▋       | 1.7MB 31.9MB/s eta 0:00:01\r\u001b[K     |████████████████████████▊       | 1.7MB 31.9MB/s eta 0:00:01\r\u001b[K     |█████████████████████████       | 1.8MB 31.9MB/s eta 0:00:01\r\u001b[K     |█████████████████████████       | 1.8MB 31.9MB/s eta 0:00:01\r\u001b[K     |█████████████████████████▏      | 1.8MB 31.9MB/s eta 0:00:01\r\u001b[K     |█████████████████████████▍      | 1.8MB 31.9MB/s eta 0:00:01\r\u001b[K     |█████████████████████████▌      | 1.8MB 31.9MB/s eta 0:00:01\r\u001b[K     |█████████████████████████▋      | 1.8MB 31.9MB/s eta 0:00:01\r\u001b[K     |█████████████████████████▉      | 1.8MB 31.9MB/s eta 0:00:01\r\u001b[K     |██████████████████████████      | 1.8MB 31.9MB/s eta 0:00:01\r\u001b[K     |██████████████████████████      | 1.8MB 31.9MB/s eta 0:00:01\r\u001b[K     |██████████████████████████▏     | 1.8MB 31.9MB/s eta 0:00:01\r\u001b[K     |██████████████████████████▍     | 1.9MB 31.9MB/s eta 0:00:01\r\u001b[K     |██████████████████████████▌     | 1.9MB 31.9MB/s eta 0:00:01\r\u001b[K     |██████████████████████████▋     | 1.9MB 31.9MB/s eta 0:00:01\r\u001b[K     |██████████████████████████▉     | 1.9MB 31.9MB/s eta 0:00:01\r\u001b[K     |███████████████████████████     | 1.9MB 31.9MB/s eta 0:00:01\r\u001b[K     |███████████████████████████     | 1.9MB 31.9MB/s eta 0:00:01\r\u001b[K     |███████████████████████████▎    | 1.9MB 31.9MB/s eta 0:00:01\r\u001b[K     |███████████████████████████▍    | 1.9MB 31.9MB/s eta 0:00:01\r\u001b[K     |███████████████████████████▌    | 1.9MB 31.9MB/s eta 0:00:01\r\u001b[K     |███████████████████████████▊    | 1.9MB 31.9MB/s eta 0:00:01\r\u001b[K     |███████████████████████████▉    | 2.0MB 31.9MB/s eta 0:00:01\r\u001b[K     |████████████████████████████    | 2.0MB 31.9MB/s eta 0:00:01\r\u001b[K     |████████████████████████████▏   | 2.0MB 31.9MB/s eta 0:00:01\r\u001b[K     |████████████████████████████▎   | 2.0MB 31.9MB/s eta 0:00:01\r\u001b[K     |████████████████████████████▍   | 2.0MB 31.9MB/s eta 0:00:01\r\u001b[K     |████████████████████████████▌   | 2.0MB 31.9MB/s eta 0:00:01\r\u001b[K     |████████████████████████████▊   | 2.0MB 31.9MB/s eta 0:00:01\r\u001b[K     |████████████████████████████▉   | 2.0MB 31.9MB/s eta 0:00:01\r\u001b[K     |█████████████████████████████   | 2.0MB 31.9MB/s eta 0:00:01\r\u001b[K     |█████████████████████████████▏  | 2.0MB 31.9MB/s eta 0:00:01\r\u001b[K     |█████████████████████████████▎  | 2.1MB 31.9MB/s eta 0:00:01\r\u001b[K     |█████████████████████████████▍  | 2.1MB 31.9MB/s eta 0:00:01\r\u001b[K     |█████████████████████████████▋  | 2.1MB 31.9MB/s eta 0:00:01\r\u001b[K     |█████████████████████████████▊  | 2.1MB 31.9MB/s eta 0:00:01\r\u001b[K     |█████████████████████████████▉  | 2.1MB 31.9MB/s eta 0:00:01\r\u001b[K     |██████████████████████████████  | 2.1MB 31.9MB/s eta 0:00:01\r\u001b[K     |██████████████████████████████▏ | 2.1MB 31.9MB/s eta 0:00:01\r\u001b[K     |██████████████████████████████▎ | 2.1MB 31.9MB/s eta 0:00:01\r\u001b[K     |██████████████████████████████▍ | 2.1MB 31.9MB/s eta 0:00:01\r\u001b[K     |██████████████████████████████▋ | 2.2MB 31.9MB/s eta 0:00:01\r\u001b[K     |██████████████████████████████▊ | 2.2MB 31.9MB/s eta 0:00:01\r\u001b[K     |██████████████████████████████▉ | 2.2MB 31.9MB/s eta 0:00:01\r\u001b[K     |███████████████████████████████ | 2.2MB 31.9MB/s eta 0:00:01\r\u001b[K     |███████████████████████████████▏| 2.2MB 31.9MB/s eta 0:00:01\r\u001b[K     |███████████████████████████████▎| 2.2MB 31.9MB/s eta 0:00:01\r\u001b[K     |███████████████████████████████▌| 2.2MB 31.9MB/s eta 0:00:01\r\u001b[K     |███████████████████████████████▋| 2.2MB 31.9MB/s eta 0:00:01\r\u001b[K     |███████████████████████████████▊| 2.2MB 31.9MB/s eta 0:00:01\r\u001b[K     |████████████████████████████████| 2.2MB 31.9MB/s eta 0:00:01\r\u001b[K     |████████████████████████████████| 2.3MB 31.9MB/s \n",
            "\u001b[?25hRequirement already satisfied: requests in /usr/local/lib/python3.7/dist-packages (2.23.0)\n",
            "Requirement already satisfied: beautifulsoup4 in /usr/local/lib/python3.7/dist-packages (4.6.3)\n",
            "Requirement already satisfied: pandas in /usr/local/lib/python3.7/dist-packages (1.1.5)\n",
            "Requirement already satisfied: numpy in /usr/local/lib/python3.7/dist-packages (1.19.5)\n",
            "Requirement already satisfied: importlib-metadata; python_version < \"3.8\" in /usr/local/lib/python3.7/dist-packages (from transformers) (4.0.1)\n",
            "Collecting tokenizers<0.11,>=0.10.1\n",
            "\u001b[?25l  Downloading https://files.pythonhosted.org/packages/d4/e2/df3543e8ffdab68f5acc73f613de9c2b155ac47f162e725dcac87c521c11/tokenizers-0.10.3-cp37-cp37m-manylinux_2_5_x86_64.manylinux1_x86_64.manylinux_2_12_x86_64.manylinux2010_x86_64.whl (3.3MB)\n",
            "\u001b[K     |████████████████████████████████| 3.3MB 45.6MB/s \n",
            "\u001b[?25hRequirement already satisfied: tqdm>=4.27 in /usr/local/lib/python3.7/dist-packages (from transformers) (4.41.1)\n",
            "Requirement already satisfied: packaging in /usr/local/lib/python3.7/dist-packages (from transformers) (20.9)\n",
            "Requirement already satisfied: regex!=2019.12.17 in /usr/local/lib/python3.7/dist-packages (from transformers) (2019.12.20)\n",
            "Collecting sacremoses\n",
            "\u001b[?25l  Downloading https://files.pythonhosted.org/packages/75/ee/67241dc87f266093c533a2d4d3d69438e57d7a90abb216fa076e7d475d4a/sacremoses-0.0.45-py3-none-any.whl (895kB)\n",
            "\u001b[K     |████████████████████████████████| 901kB 33.6MB/s \n",
            "\u001b[?25hRequirement already satisfied: filelock in /usr/local/lib/python3.7/dist-packages (from transformers) (3.0.12)\n",
            "Collecting huggingface-hub==0.0.8\n",
            "  Downloading https://files.pythonhosted.org/packages/a1/88/7b1e45720ecf59c6c6737ff332f41c955963090a18e72acbcbeac6b25e86/huggingface_hub-0.0.8-py3-none-any.whl\n",
            "Requirement already satisfied: chardet<4,>=3.0.2 in /usr/local/lib/python3.7/dist-packages (from requests) (3.0.4)\n",
            "Requirement already satisfied: certifi>=2017.4.17 in /usr/local/lib/python3.7/dist-packages (from requests) (2020.12.5)\n",
            "Requirement already satisfied: urllib3!=1.25.0,!=1.25.1,<1.26,>=1.21.1 in /usr/local/lib/python3.7/dist-packages (from requests) (1.24.3)\n",
            "Requirement already satisfied: idna<3,>=2.5 in /usr/local/lib/python3.7/dist-packages (from requests) (2.10)\n",
            "Requirement already satisfied: python-dateutil>=2.7.3 in /usr/local/lib/python3.7/dist-packages (from pandas) (2.8.1)\n",
            "Requirement already satisfied: pytz>=2017.2 in /usr/local/lib/python3.7/dist-packages (from pandas) (2018.9)\n",
            "Requirement already satisfied: zipp>=0.5 in /usr/local/lib/python3.7/dist-packages (from importlib-metadata; python_version < \"3.8\"->transformers) (3.4.1)\n",
            "Requirement already satisfied: typing-extensions>=3.6.4; python_version < \"3.8\" in /usr/local/lib/python3.7/dist-packages (from importlib-metadata; python_version < \"3.8\"->transformers) (3.7.4.3)\n",
            "Requirement already satisfied: pyparsing>=2.0.2 in /usr/local/lib/python3.7/dist-packages (from packaging->transformers) (2.4.7)\n",
            "Requirement already satisfied: joblib in /usr/local/lib/python3.7/dist-packages (from sacremoses->transformers) (1.0.1)\n",
            "Requirement already satisfied: six in /usr/local/lib/python3.7/dist-packages (from sacremoses->transformers) (1.15.0)\n",
            "Requirement already satisfied: click in /usr/local/lib/python3.7/dist-packages (from sacremoses->transformers) (7.1.2)\n",
            "Installing collected packages: tokenizers, sacremoses, huggingface-hub, transformers\n",
            "Successfully installed huggingface-hub-0.0.8 sacremoses-0.0.45 tokenizers-0.10.3 transformers-4.6.1\n"
          ],
          "name": "stdout"
        }
      ]
    },
    {
      "cell_type": "code",
      "metadata": {
        "id": "x7O8VGcYopQc"
      },
      "source": [
        "from transformers import AutoTokenizer, AutoModelForSequenceClassification\n",
        "import torch\n",
        "import requests\n",
        "from bs4 import BeautifulSoup\n",
        "import re"
      ],
      "execution_count": null,
      "outputs": []
    },
    {
      "cell_type": "markdown",
      "metadata": {
        "id": "JhTLa70_fXtn"
      },
      "source": [
        "Instantiate Model "
      ]
    },
    {
      "cell_type": "code",
      "metadata": {
        "colab": {
          "base_uri": "https://localhost:8080/",
          "height": 260,
          "referenced_widgets": [
            "42a4a995913a4faa8f32a45377833da1",
            "4aa2c317734b4f0b9672b7e69d770fe7",
            "38ab76057ab049609a15b952cdbb26ea",
            "e3474a0c78c14b7a8dad2ecfb36b82d3",
            "92a970c27cf44eae9adc0dd82f08097a",
            "c49bd61645ac423e9abc030e3ebe9915",
            "4f2d89dfd65d49ffa4273857faaaf732",
            "a04f0102bf464c04bfa64439c81a068d",
            "c7ad1c1c7f33436189a75ee86445f185",
            "2c773bd9ce4748ba8f3bb13dbcea562e",
            "91ac2164ec904dd6b04c7545f42e8483",
            "b6172387159f4e0d9daac8806fbcd52f",
            "772ad8d3730e413f85b09afe68895957",
            "d8840014aab64bd59fe7f29bc5ecad27",
            "b0fe3898c7c646bf8639248e8076129c",
            "efd728d0823841498cd6850e56cc6d65",
            "7c04e8d747824582b0221ce99cdb0e85",
            "ddfb6d8659a24f54af25f0a3f248d1af",
            "234d0b8bc9834dd1a694afd6e8938aa4",
            "97ff9e7e6bc84bb1947545feef870aa2",
            "e9ffe85172f14b7b8caed887661f6083",
            "52b513fe38de461caed85bbc4aa0d24d",
            "58b56c627b794e2ba391253d50d89bd4",
            "6a72a12b866b47b3be53c051b29f30c6",
            "0175d582e2144534a85c02d505949a5a",
            "5048f46c296e41caa795f3b6ceb6dec6",
            "9abf60e5222949dda8890128fb92f47a",
            "8179b4b9ad614bf4b81887df26b5cb69",
            "7580f92f593c47fc839d7a2b21056553",
            "bdc47d643e8b429f8f5a47c106dc6b48",
            "9310243d717d4b8080c74c623135f67b",
            "371a334cd197469893ca4ec29be036aa",
            "0a1c6a2d41b14be6b01468988a82d975",
            "651b477857a34cdda249c4c05de8e9d5",
            "7bddfdf6e4c3470b95a9875386d1db2b",
            "bfd47212004f43fb962aead0b3cf1d1a",
            "72d5147e80864556adfee0ec5eb1def3",
            "4f663fc09f594bf2ab514ec0842cf233",
            "7bf26893035c4751bb01ea40f94f91b1",
            "aa8df807127c4efa8c0960a387c2c0c8"
          ]
        },
        "id": "L5OKNhvUeoKg",
        "outputId": "9dbbbc2c-53d6-41de-fd2b-dfb54c39e501"
      },
      "source": [
        "tokenizer = AutoTokenizer.from_pretrained('nlptown/bert-base-multilingual-uncased-sentiment')\n",
        "\n",
        "model = AutoModelForSequenceClassification.from_pretrained('nlptown/bert-base-multilingual-uncased-sentiment')"
      ],
      "execution_count": null,
      "outputs": [
        {
          "output_type": "display_data",
          "data": {
            "application/vnd.jupyter.widget-view+json": {
              "model_id": "42a4a995913a4faa8f32a45377833da1",
              "version_minor": 0,
              "version_major": 2
            },
            "text/plain": [
              "HBox(children=(FloatProgress(value=0.0, description='Downloading', max=953.0, style=ProgressStyle(description_…"
            ]
          },
          "metadata": {
            "tags": []
          }
        },
        {
          "output_type": "stream",
          "text": [
            "\n"
          ],
          "name": "stdout"
        },
        {
          "output_type": "display_data",
          "data": {
            "application/vnd.jupyter.widget-view+json": {
              "model_id": "c7ad1c1c7f33436189a75ee86445f185",
              "version_minor": 0,
              "version_major": 2
            },
            "text/plain": [
              "HBox(children=(FloatProgress(value=0.0, description='Downloading', max=871891.0, style=ProgressStyle(descripti…"
            ]
          },
          "metadata": {
            "tags": []
          }
        },
        {
          "output_type": "stream",
          "text": [
            "\n"
          ],
          "name": "stdout"
        },
        {
          "output_type": "display_data",
          "data": {
            "application/vnd.jupyter.widget-view+json": {
              "model_id": "7c04e8d747824582b0221ce99cdb0e85",
              "version_minor": 0,
              "version_major": 2
            },
            "text/plain": [
              "HBox(children=(FloatProgress(value=0.0, description='Downloading', max=112.0, style=ProgressStyle(description_…"
            ]
          },
          "metadata": {
            "tags": []
          }
        },
        {
          "output_type": "stream",
          "text": [
            "\n"
          ],
          "name": "stdout"
        },
        {
          "output_type": "display_data",
          "data": {
            "application/vnd.jupyter.widget-view+json": {
              "model_id": "0175d582e2144534a85c02d505949a5a",
              "version_minor": 0,
              "version_major": 2
            },
            "text/plain": [
              "HBox(children=(FloatProgress(value=0.0, description='Downloading', max=39.0, style=ProgressStyle(description_w…"
            ]
          },
          "metadata": {
            "tags": []
          }
        },
        {
          "output_type": "stream",
          "text": [
            "\n"
          ],
          "name": "stdout"
        },
        {
          "output_type": "display_data",
          "data": {
            "application/vnd.jupyter.widget-view+json": {
              "model_id": "0a1c6a2d41b14be6b01468988a82d975",
              "version_minor": 0,
              "version_major": 2
            },
            "text/plain": [
              "HBox(children=(FloatProgress(value=0.0, description='Downloading', max=669491321.0, style=ProgressStyle(descri…"
            ]
          },
          "metadata": {
            "tags": []
          }
        },
        {
          "output_type": "stream",
          "text": [
            "\n"
          ],
          "name": "stdout"
        }
      ]
    },
    {
      "cell_type": "markdown",
      "metadata": {
        "id": "0vJx1rlEglVV"
      },
      "source": [
        "Encode and Calculate Sentiment "
      ]
    },
    {
      "cell_type": "code",
      "metadata": {
        "id": "5jrSShTNgovJ"
      },
      "source": [
        "token = tokenizer.encode('Why are you such a dick', return_tensors = 'pt')"
      ],
      "execution_count": null,
      "outputs": []
    },
    {
      "cell_type": "code",
      "metadata": {
        "colab": {
          "base_uri": "https://localhost:8080/"
        },
        "id": "T7ir5uWDg9cW",
        "outputId": "5d921111-c02a-4245-a737-6111d92ae007"
      },
      "source": [
        "token[0]"
      ],
      "execution_count": null,
      "outputs": [
        {
          "output_type": "execute_result",
          "data": {
            "text/plain": [
              "tensor([  101, 18469, 10320, 10855, 11165,   143, 19715,   102])"
            ]
          },
          "metadata": {
            "tags": []
          },
          "execution_count": 6
        }
      ]
    },
    {
      "cell_type": "code",
      "metadata": {
        "colab": {
          "base_uri": "https://localhost:8080/",
          "height": 34
        },
        "id": "t4CI8ei4hGKH",
        "outputId": "0a05aa52-0060-435e-9dbe-2cbe5b959705"
      },
      "source": [
        "tokenizer.decode(token[0])"
      ],
      "execution_count": null,
      "outputs": [
        {
          "output_type": "execute_result",
          "data": {
            "application/vnd.google.colaboratory.intrinsic+json": {
              "type": "string"
            },
            "text/plain": [
              "'[CLS] why are you such a dick [SEP]'"
            ]
          },
          "metadata": {
            "tags": []
          },
          "execution_count": 7
        }
      ]
    },
    {
      "cell_type": "code",
      "metadata": {
        "colab": {
          "base_uri": "https://localhost:8080/"
        },
        "id": "5Q6BabcLeYg3",
        "outputId": "002f3c80-7130-4f75-c4b8-8b08e094369e"
      },
      "source": [
        "result = model(token)\n",
        "result.logits "
      ],
      "execution_count": null,
      "outputs": [
        {
          "output_type": "execute_result",
          "data": {
            "text/plain": [
              "tensor([[ 1.3600,  0.6482, -0.1948, -1.0619, -0.6072]],\n",
              "       grad_fn=<AddmmBackward>)"
            ]
          },
          "metadata": {
            "tags": []
          },
          "execution_count": 8
        }
      ]
    },
    {
      "cell_type": "code",
      "metadata": {
        "colab": {
          "base_uri": "https://localhost:8080/"
        },
        "id": "ZeAXFt5Vidnj",
        "outputId": "c6932370-e3d8-4462-89af-6b402b63ae05"
      },
      "source": [
        "result "
      ],
      "execution_count": null,
      "outputs": [
        {
          "output_type": "execute_result",
          "data": {
            "text/plain": [
              "SequenceClassifierOutput([('logits',\n",
              "                           tensor([[ 1.3600,  0.6482, -0.1948, -1.0619, -0.6072]],\n",
              "                                  grad_fn=<AddmmBackward>))])"
            ]
          },
          "metadata": {
            "tags": []
          },
          "execution_count": 9
        }
      ]
    },
    {
      "cell_type": "code",
      "metadata": {
        "colab": {
          "base_uri": "https://localhost:8080/"
        },
        "id": "5pNci62zegr4",
        "outputId": "3b501a24-60a6-4150-c0c9-27d4dc40f6ab"
      },
      "source": [
        "int(torch.argmax(result.logits))+1"
      ],
      "execution_count": null,
      "outputs": [
        {
          "output_type": "execute_result",
          "data": {
            "text/plain": [
              "1"
            ]
          },
          "metadata": {
            "tags": []
          },
          "execution_count": 10
        }
      ]
    },
    {
      "cell_type": "markdown",
      "metadata": {
        "id": "wV3mkGh_hffN"
      },
      "source": [
        "Collect Reviews "
      ]
    },
    {
      "cell_type": "code",
      "metadata": {
        "id": "KQ4AD682paRE"
      },
      "source": [
        "# using request library to grab the webpage and getting a response code ( we can also check with this by r.text= everything that comprises the webpage)\n",
        "r = requests.get('https://www.tripadvisor.com/ShowUserReviews-g304552-d1202019-r206352713-The_Restaurant-Shimla_Shimla_District_Himachal_Pradesh.html')\n",
        "#passing the r.text to our BeautifulSoup with the setting parser type HTML \n",
        "soup = BeautifulSoup(r.text, 'html.parser')\n",
        "# looking for anything named 'partial_entry' which is in the class using regex\n",
        "regex = re.compile('.*partial_entry.*')\n",
        "#using find_all to find all the tag (p) that matches our 'regex' within the 'soup'\n",
        "results = soup.find_all('p', {'class':regex})\n",
        "#results[0].text\n",
        "#we are including each text in the results in a list with removed tags!\n",
        "reviews = [result.text for result in results]"
      ],
      "execution_count": null,
      "outputs": []
    },
    {
      "cell_type": "code",
      "metadata": {
        "colab": {
          "base_uri": "https://localhost:8080/"
        },
        "id": "NkgKoPCgqTzO",
        "outputId": "01690d98-4e02-4e94-d061-81ae8bd5d692"
      },
      "source": [
        "reviews"
      ],
      "execution_count": null,
      "outputs": [
        {
          "output_type": "execute_result",
          "data": {
            "text/plain": [
              "['The welcome, attention and willingness to please and make customers happy is possibly the best ever example of customer service I have ever experienced. I loved this hotel so nostalgic and beautiful. Chennai in the spa was amazing - I had a fantastic massage. Food quality and service excellent. Pool and spa excellent. The staff all excellent at every level unlike far surpassing that of its rivals. Near the beautiful old town of a Shimla. I was there for 3 days but honestly would have liked a week. Thank you one and all for an amazingly memorable and comfortable stay.',\n",
              " 'Dear Guest Greetings from the hills. Many Thanks for appreciating Food and service in the hotel, I have also passed on your compliments to our Pool and Spa team.The whole team is delighted to heart the sane.Looking forward to see you soonThank you and Best RegardsAnupam GulatiExecutive Chef',\n",
              " 'I and my wife had nice dinner here with our small daughter. We ordered soup and noodles with red wine. Food was awesome and staff was quick and courteous. But the best part was the colonial architecture of restaurant, furniture and big window panes. You kind of taken to the past and enjoyed. It has good value of money. The staff was friendly.',\n",
              " 'Dear Guest,It is indeed our pleasure to know that you enjoyed dining at the Restaurant at Cecil, and that you appreciated the Noodles and the soup.I have passed on your compliments to my Food and Beverage team.Please do visit us again next time you are in ShimlaLooking forward to see you again.Best RegardsAnupam GulatiExecutive Chef',\n",
              " 'My husband and I with our daughter had dinner here. The food was tasty but the ambiance and service was superb. It has an old world charm. The furniture, chandeliers big window panes and lighting will make u sink in its charm. the food quality was good and service was quick. The staff was friendly and courteous.',\n",
              " 'Dear Guest,It is indeed our pleasure to know that you enjoyed dining at the Restaurant at Cecil. Glad to know that you enjoyed the British Charm of the Hotel.Also many thanks for appreciating the Food and service as well, I have passed on your compliments to my Food and Beverage team.Looking forward to see you again.Best RegardsAnupam GulatiExecutive Chef',\n",
              " 'Huge selection of mouthwatering Indian and International food. Excellent service. The chef would prepare special dishes if requested.',\n",
              " 'Dear GuestWe are delighted to know that you enjoyed the menu and the food at Cecil, I have passed on your compliments to my FnB team, and the whole team is thankful to you.Please do visit again.Looking forward to see you soonThank you and best regardsAnupam GulatiExecutive Chef',\n",
              " \"My wife and I had a falafel and coffee here, both very good. The staff is young and friendly, the place sits right overlooking the town square so you can do a lot of people watching, and overall it's got a cool feel to it. There is a lot of punk crowd at the place, so it's easy entertainment overhearing their gossip :)\",\n",
              " 'Dear Guest,Greetings from Shimla, the whole team at Food & Beverage joins me in thanking you for appreciating falafel and coffee.We are delighted to hear that, and such encouraging words help us improve, Once again thank you for your valuable feedback.We look forward to see you againBest RegardsAnupam GulatiExecutive Chef']"
            ]
          },
          "metadata": {
            "tags": []
          },
          "execution_count": 23
        }
      ]
    },
    {
      "cell_type": "markdown",
      "metadata": {
        "id": "T73Cn7PsvyAC"
      },
      "source": [
        "Loading the review into DataFrame and Score "
      ]
    },
    {
      "cell_type": "code",
      "metadata": {
        "id": "t8MBcA_dv34j"
      },
      "source": [
        "#  a gentle reading is required \n",
        "# https://www.octoparse.com/blog/web-scraping-using-python"
      ],
      "execution_count": null,
      "outputs": []
    },
    {
      "cell_type": "code",
      "metadata": {
        "id": "19G-AhW-5Gow"
      },
      "source": [
        "import numpy as np \n",
        "import pandas as pd "
      ],
      "execution_count": null,
      "outputs": []
    },
    {
      "cell_type": "code",
      "metadata": {
        "id": "D0oTim9OuenP"
      },
      "source": [
        "df = pd.DataFrame(np.array(reviews), columns = ['review'])"
      ],
      "execution_count": null,
      "outputs": []
    },
    {
      "cell_type": "code",
      "metadata": {
        "colab": {
          "base_uri": "https://localhost:8080/",
          "height": 354
        },
        "id": "AxX2vOYyujyz",
        "outputId": "e5ad73f3-2b54-459f-cb5e-927909b071c6"
      },
      "source": [
        "df"
      ],
      "execution_count": null,
      "outputs": [
        {
          "output_type": "execute_result",
          "data": {
            "text/html": [
              "<div>\n",
              "<style scoped>\n",
              "    .dataframe tbody tr th:only-of-type {\n",
              "        vertical-align: middle;\n",
              "    }\n",
              "\n",
              "    .dataframe tbody tr th {\n",
              "        vertical-align: top;\n",
              "    }\n",
              "\n",
              "    .dataframe thead th {\n",
              "        text-align: right;\n",
              "    }\n",
              "</style>\n",
              "<table border=\"1\" class=\"dataframe\">\n",
              "  <thead>\n",
              "    <tr style=\"text-align: right;\">\n",
              "      <th></th>\n",
              "      <th>review</th>\n",
              "    </tr>\n",
              "  </thead>\n",
              "  <tbody>\n",
              "    <tr>\n",
              "      <th>0</th>\n",
              "      <td>The welcome, attention and willingness to plea...</td>\n",
              "    </tr>\n",
              "    <tr>\n",
              "      <th>1</th>\n",
              "      <td>Dear Guest Greetings from the hills. Many Than...</td>\n",
              "    </tr>\n",
              "    <tr>\n",
              "      <th>2</th>\n",
              "      <td>I and my wife had nice dinner here with our sm...</td>\n",
              "    </tr>\n",
              "    <tr>\n",
              "      <th>3</th>\n",
              "      <td>Dear Guest,It is indeed our pleasure to know t...</td>\n",
              "    </tr>\n",
              "    <tr>\n",
              "      <th>4</th>\n",
              "      <td>My husband and I with our daughter had dinner ...</td>\n",
              "    </tr>\n",
              "    <tr>\n",
              "      <th>5</th>\n",
              "      <td>Dear Guest,It is indeed our pleasure to know t...</td>\n",
              "    </tr>\n",
              "    <tr>\n",
              "      <th>6</th>\n",
              "      <td>Huge selection of mouthwatering Indian and Int...</td>\n",
              "    </tr>\n",
              "    <tr>\n",
              "      <th>7</th>\n",
              "      <td>Dear GuestWe are delighted to know that you en...</td>\n",
              "    </tr>\n",
              "    <tr>\n",
              "      <th>8</th>\n",
              "      <td>My wife and I had a falafel and coffee here, b...</td>\n",
              "    </tr>\n",
              "    <tr>\n",
              "      <th>9</th>\n",
              "      <td>Dear Guest,Greetings from Shimla, the whole te...</td>\n",
              "    </tr>\n",
              "  </tbody>\n",
              "</table>\n",
              "</div>"
            ],
            "text/plain": [
              "                                              review\n",
              "0  The welcome, attention and willingness to plea...\n",
              "1  Dear Guest Greetings from the hills. Many Than...\n",
              "2  I and my wife had nice dinner here with our sm...\n",
              "3  Dear Guest,It is indeed our pleasure to know t...\n",
              "4  My husband and I with our daughter had dinner ...\n",
              "5  Dear Guest,It is indeed our pleasure to know t...\n",
              "6  Huge selection of mouthwatering Indian and Int...\n",
              "7  Dear GuestWe are delighted to know that you en...\n",
              "8  My wife and I had a falafel and coffee here, b...\n",
              "9  Dear Guest,Greetings from Shimla, the whole te..."
            ]
          },
          "metadata": {
            "tags": []
          },
          "execution_count": 28
        }
      ]
    },
    {
      "cell_type": "code",
      "metadata": {
        "colab": {
          "base_uri": "https://localhost:8080/",
          "height": 51
        },
        "id": "7LbyhC2kukTi",
        "outputId": "1536fdc0-6b46-4e46-9a48-fd1dcc1c5a29"
      },
      "source": [
        "df['review'].iloc[2]"
      ],
      "execution_count": null,
      "outputs": [
        {
          "output_type": "execute_result",
          "data": {
            "application/vnd.google.colaboratory.intrinsic+json": {
              "type": "string"
            },
            "text/plain": [
              "'I and my wife had nice dinner here with our small daughter. We ordered soup and noodles with red wine. Food was awesome and staff was quick and courteous. But the best part was the colonial architecture of restaurant, furniture and big window panes. You kind of taken to the past and enjoyed. It has good value of money. The staff was friendly.'"
            ]
          },
          "metadata": {
            "tags": []
          },
          "execution_count": 38
        }
      ]
    },
    {
      "cell_type": "code",
      "metadata": {
        "id": "riyMNB9Ku3CX"
      },
      "source": [
        "# making a function that will pass each and every 'partial_entry' into our sentiment analyser (encode and giving us the score)\n",
        "\n",
        "def sentiment_score(review):\n",
        "  token = tokenizer.encode(review, return_tensors='pt')  #why pt\n",
        "  result = model(token)\n",
        "  return int(torch.argmax(result.logits))+1"
      ],
      "execution_count": null,
      "outputs": []
    },
    {
      "cell_type": "code",
      "metadata": {
        "colab": {
          "base_uri": "https://localhost:8080/"
        },
        "id": "O7BiM40dvw-g",
        "outputId": "fe7c2cae-4e29-4dcc-8401-f67a0296385f"
      },
      "source": [
        "sentiment_score(df['review'].iloc[2])"
      ],
      "execution_count": null,
      "outputs": [
        {
          "output_type": "execute_result",
          "data": {
            "text/plain": [
              "4"
            ]
          },
          "metadata": {
            "tags": []
          },
          "execution_count": 33
        }
      ]
    },
    {
      "cell_type": "code",
      "metadata": {
        "id": "tf_5xLpkv_nG"
      },
      "source": [
        "df['sentiment']= df['review'].apply(lambda x: sentiment_score(x))"
      ],
      "execution_count": null,
      "outputs": []
    },
    {
      "cell_type": "code",
      "metadata": {
        "colab": {
          "base_uri": "https://localhost:8080/",
          "height": 354
        },
        "id": "72YXlrQewn-B",
        "outputId": "e3c5f26f-1589-4379-cf1b-f41a696c6703"
      },
      "source": [
        "df"
      ],
      "execution_count": null,
      "outputs": [
        {
          "output_type": "execute_result",
          "data": {
            "text/html": [
              "<div>\n",
              "<style scoped>\n",
              "    .dataframe tbody tr th:only-of-type {\n",
              "        vertical-align: middle;\n",
              "    }\n",
              "\n",
              "    .dataframe tbody tr th {\n",
              "        vertical-align: top;\n",
              "    }\n",
              "\n",
              "    .dataframe thead th {\n",
              "        text-align: right;\n",
              "    }\n",
              "</style>\n",
              "<table border=\"1\" class=\"dataframe\">\n",
              "  <thead>\n",
              "    <tr style=\"text-align: right;\">\n",
              "      <th></th>\n",
              "      <th>review</th>\n",
              "      <th>sentiment</th>\n",
              "    </tr>\n",
              "  </thead>\n",
              "  <tbody>\n",
              "    <tr>\n",
              "      <th>0</th>\n",
              "      <td>The welcome, attention and willingness to plea...</td>\n",
              "      <td>5</td>\n",
              "    </tr>\n",
              "    <tr>\n",
              "      <th>1</th>\n",
              "      <td>Dear Guest Greetings from the hills. Many Than...</td>\n",
              "      <td>5</td>\n",
              "    </tr>\n",
              "    <tr>\n",
              "      <th>2</th>\n",
              "      <td>I and my wife had nice dinner here with our sm...</td>\n",
              "      <td>4</td>\n",
              "    </tr>\n",
              "    <tr>\n",
              "      <th>3</th>\n",
              "      <td>Dear Guest,It is indeed our pleasure to know t...</td>\n",
              "      <td>5</td>\n",
              "    </tr>\n",
              "    <tr>\n",
              "      <th>4</th>\n",
              "      <td>My husband and I with our daughter had dinner ...</td>\n",
              "      <td>5</td>\n",
              "    </tr>\n",
              "    <tr>\n",
              "      <th>5</th>\n",
              "      <td>Dear Guest,It is indeed our pleasure to know t...</td>\n",
              "      <td>5</td>\n",
              "    </tr>\n",
              "    <tr>\n",
              "      <th>6</th>\n",
              "      <td>Huge selection of mouthwatering Indian and Int...</td>\n",
              "      <td>5</td>\n",
              "    </tr>\n",
              "    <tr>\n",
              "      <th>7</th>\n",
              "      <td>Dear GuestWe are delighted to know that you en...</td>\n",
              "      <td>5</td>\n",
              "    </tr>\n",
              "    <tr>\n",
              "      <th>8</th>\n",
              "      <td>My wife and I had a falafel and coffee here, b...</td>\n",
              "      <td>4</td>\n",
              "    </tr>\n",
              "    <tr>\n",
              "      <th>9</th>\n",
              "      <td>Dear Guest,Greetings from Shimla, the whole te...</td>\n",
              "      <td>5</td>\n",
              "    </tr>\n",
              "  </tbody>\n",
              "</table>\n",
              "</div>"
            ],
            "text/plain": [
              "                                              review  sentiment\n",
              "0  The welcome, attention and willingness to plea...          5\n",
              "1  Dear Guest Greetings from the hills. Many Than...          5\n",
              "2  I and my wife had nice dinner here with our sm...          4\n",
              "3  Dear Guest,It is indeed our pleasure to know t...          5\n",
              "4  My husband and I with our daughter had dinner ...          5\n",
              "5  Dear Guest,It is indeed our pleasure to know t...          5\n",
              "6  Huge selection of mouthwatering Indian and Int...          5\n",
              "7  Dear GuestWe are delighted to know that you en...          5\n",
              "8  My wife and I had a falafel and coffee here, b...          4\n",
              "9  Dear Guest,Greetings from Shimla, the whole te...          5"
            ]
          },
          "metadata": {
            "tags": []
          },
          "execution_count": 36
        }
      ]
    },
    {
      "cell_type": "code",
      "metadata": {
        "id": "Md64qKx-wxy8"
      },
      "source": [
        ""
      ],
      "execution_count": null,
      "outputs": []
    }
  ]
}